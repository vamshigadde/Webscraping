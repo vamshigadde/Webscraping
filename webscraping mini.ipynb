{
 "cells": [
  {
   "cell_type": "code",
   "execution_count": 1,
   "id": "e8ec2dac",
   "metadata": {},
   "outputs": [],
   "source": [
    "import requests\n",
    "from bs4 import BeautifulSoup\n",
    "import pandas as pd"
   ]
  },
  {
   "cell_type": "code",
   "execution_count": 2,
   "id": "c2ec74d0",
   "metadata": {},
   "outputs": [],
   "source": [
    "url='https://www.marketwatch.com/tools/screener/premarket'"
   ]
  },
  {
   "cell_type": "code",
   "execution_count": 3,
   "id": "dd3e763f",
   "metadata": {},
   "outputs": [],
   "source": [
    "page=requests.get(url)"
   ]
  },
  {
   "cell_type": "code",
   "execution_count": 4,
   "id": "84269ed8",
   "metadata": {},
   "outputs": [],
   "source": [
    "soup=BeautifulSoup(page.text,'html.parser')"
   ]
  },
  {
   "cell_type": "code",
   "execution_count": 5,
   "id": "49ed2ff9",
   "metadata": {},
   "outputs": [],
   "source": [
    "title=soup.find_all('span',class_='label')"
   ]
  },
  {
   "cell_type": "code",
   "execution_count": 6,
   "id": "a695c1e8",
   "metadata": {},
   "outputs": [
    {
     "name": "stdout",
     "output_type": "stream",
     "text": [
      "[<span class=\"label\">Sign Up</span>, <span class=\"label\">Log In</span>, <span class=\"label\">Premarket Screener</span>, <span class=\"label\">Leaders</span>, <span class=\"label\">Laggards</span>, <span class=\"label\">Most Active</span>, <span class=\"label\">Partner Content</span>, <span class=\"label\">Partner Content</span>, <span class=\"label\">Time to Upgrade!</span>]\n"
     ]
    }
   ],
   "source": [
    "print(title)"
   ]
  },
  {
   "cell_type": "code",
   "execution_count": 7,
   "id": "a7c8a29e",
   "metadata": {},
   "outputs": [],
   "source": [
    "title=soup.find_all('h1',class_='title')"
   ]
  },
  {
   "cell_type": "code",
   "execution_count": 8,
   "id": "570e878a",
   "metadata": {},
   "outputs": [
    {
     "name": "stdout",
     "output_type": "stream",
     "text": [
      "[<h1 class=\"title\">\n",
      "<span class=\"label\">Premarket Screener</span>\n",
      "</h1>]\n"
     ]
    }
   ],
   "source": [
    "print(title)"
   ]
  },
  {
   "cell_type": "code",
   "execution_count": 9,
   "id": "c8aa509f",
   "metadata": {},
   "outputs": [
    {
     "name": "stdout",
     "output_type": "stream",
     "text": [
      "\n",
      "Premarket Screener\n",
      "\n"
     ]
    }
   ],
   "source": [
    "for x in soup.find_all('h1',class_='title'):\n",
    "    print(x.text)"
   ]
  },
  {
   "cell_type": "code",
   "execution_count": 10,
   "id": "b09e480c",
   "metadata": {},
   "outputs": [],
   "source": [
    "table=soup.find_all('div',class_='element element--table table--fixed screener-table')"
   ]
  },
  {
   "cell_type": "code",
   "execution_count": 11,
   "id": "5d84154b",
   "metadata": {},
   "outputs": [],
   "source": [
    "#table"
   ]
  },
  {
   "cell_type": "code",
   "execution_count": 12,
   "id": "7fe7a802",
   "metadata": {},
   "outputs": [],
   "source": [
    "column_header=['Symbol','Price','Volume','Changes','Change%']\n",
    "dataframe=pd.DataFrame(columns=column_header)\n",
    "symbol=''\n",
    "price=''\n",
    "volume=''\n",
    "change=''\n",
    "change_percent=0  # because i want to add it as a integer"
   ]
  },
  {
   "cell_type": "code",
   "execution_count": 13,
   "id": "31daf679",
   "metadata": {},
   "outputs": [],
   "source": [
    "#print(table)"
   ]
  },
  {
   "cell_type": "markdown",
   "id": "464101ba",
   "metadata": {},
   "source": [
    "here it \n",
    "\n",
    "i=0 isiliye agar row change hua tho i=0 hojayega"
   ]
  },
  {
   "cell_type": "code",
   "execution_count": 19,
   "id": "7c6c60c4",
   "metadata": {},
   "outputs": [
    {
     "name": "stdout",
     "output_type": "stream",
     "text": [
      "   Symbol    Price   Volume Changes  Change%\n",
      "0    SPCE   $53.23   7.500M   10.03    23.22\n",
      "1    SPCE   $53.23   7.500M   10.03    23.22\n",
      "12   SPCE   $53.23   7.500M   10.03    23.22\n",
      "13     SC   $40.51  172.98K    4.08    11.20\n",
      "2      SC   $40.51  172.98K    4.08    11.20\n",
      "3    MKSI  $175.44      841    4.67     2.73\n",
      "14   MKSI  $175.44      841    4.67     2.73\n",
      "4    SKLZ   $20.89  100.40K    0.50     2.45\n",
      "15   SKLZ   $20.89  100.40K    0.50     2.45\n",
      "5    EXAS  $126.50      112    2.45     1.98\n",
      "16   EXAS  $126.50      112    2.45     1.98\n",
      "6     ATH   $69.75       56    1.35     1.97\n",
      "17    ATH   $69.75       56    1.35     1.97\n",
      "18    VER   $47.00        1    0.89     1.93\n",
      "7     VER   $47.00        1    0.89     1.93\n",
      "19   ADPT   $40.59    2,494    0.72     1.81\n",
      "8    ADPT   $40.59    2,494    0.72     1.81\n",
      "20   CSGP   $84.70       58    1.45     1.74\n",
      "9    CSGP   $84.70       58    1.45     1.74\n",
      "11   ALGM   $27.81      109    0.44     1.61\n",
      "10   ALGM   $27.81      109    0.44     1.61\n",
      "21   ALGM   $27.81      109    0.44     1.61\n"
     ]
    }
   ],
   "source": [
    "for tr in soup.select('a'):\n",
    "    tr.extract()\n",
    "i=1\n",
    "for tr in table[0].find_all('tr'):\n",
    "    i=0\n",
    "    #loop in each cell\n",
    "    for td in tr.find_all('td'):\n",
    "        i=i+1\n",
    "        \n",
    "        if(i==1):\n",
    "            symbol=td.text.replace('\\n','')\n",
    "       \n",
    "        if(i==3):\n",
    "            price=td.text.replace('\\n','')\n",
    "        if(i==4):\n",
    "            volume=td.text.replace('\\n','')\n",
    "        if(i==5):\n",
    "            change=td.text.replace('\\n','')\n",
    "        if(i==6):\n",
    "            change_percent = float(td.text.replace('\\n','').replace('%',''))\n",
    "            \n",
    "    if(symbol!=''):\n",
    "        dataframe=dataframe.append(\n",
    "        pd.Series([\n",
    "        symbol,\n",
    "        price,\n",
    "        volume,\n",
    "        change,\n",
    "        change_percent\n",
    "        ],\n",
    "        index=column_header),\n",
    "        ignore_index=True)\n",
    "    \n",
    "dataframe.sort_values('Change%',axis=0,ascending=False,\n",
    "                     inplace=True,na_position='last')\n",
    "\n",
    "print(dataframe)"
   ]
  },
  {
   "cell_type": "code",
   "execution_count": 20,
   "id": "d2145e98",
   "metadata": {},
   "outputs": [
    {
     "data": {
      "text/html": [
       "<div>\n",
       "<style scoped>\n",
       "    .dataframe tbody tr th:only-of-type {\n",
       "        vertical-align: middle;\n",
       "    }\n",
       "\n",
       "    .dataframe tbody tr th {\n",
       "        vertical-align: top;\n",
       "    }\n",
       "\n",
       "    .dataframe thead th {\n",
       "        text-align: right;\n",
       "    }\n",
       "</style>\n",
       "<table border=\"1\" class=\"dataframe\">\n",
       "  <thead>\n",
       "    <tr style=\"text-align: right;\">\n",
       "      <th></th>\n",
       "      <th>Symbol</th>\n",
       "      <th>Price</th>\n",
       "      <th>Volume</th>\n",
       "      <th>Changes</th>\n",
       "      <th>Change%</th>\n",
       "    </tr>\n",
       "  </thead>\n",
       "  <tbody>\n",
       "    <tr>\n",
       "      <th>0</th>\n",
       "      <td>SPCE</td>\n",
       "      <td>$53.23</td>\n",
       "      <td>7.500M</td>\n",
       "      <td>10.03</td>\n",
       "      <td>23.22</td>\n",
       "    </tr>\n",
       "    <tr>\n",
       "      <th>1</th>\n",
       "      <td>SPCE</td>\n",
       "      <td>$53.23</td>\n",
       "      <td>7.500M</td>\n",
       "      <td>10.03</td>\n",
       "      <td>23.22</td>\n",
       "    </tr>\n",
       "    <tr>\n",
       "      <th>12</th>\n",
       "      <td>SPCE</td>\n",
       "      <td>$53.23</td>\n",
       "      <td>7.500M</td>\n",
       "      <td>10.03</td>\n",
       "      <td>23.22</td>\n",
       "    </tr>\n",
       "    <tr>\n",
       "      <th>13</th>\n",
       "      <td>SC</td>\n",
       "      <td>$40.51</td>\n",
       "      <td>172.98K</td>\n",
       "      <td>4.08</td>\n",
       "      <td>11.20</td>\n",
       "    </tr>\n",
       "    <tr>\n",
       "      <th>2</th>\n",
       "      <td>SC</td>\n",
       "      <td>$40.51</td>\n",
       "      <td>172.98K</td>\n",
       "      <td>4.08</td>\n",
       "      <td>11.20</td>\n",
       "    </tr>\n",
       "    <tr>\n",
       "      <th>3</th>\n",
       "      <td>MKSI</td>\n",
       "      <td>$175.44</td>\n",
       "      <td>841</td>\n",
       "      <td>4.67</td>\n",
       "      <td>2.73</td>\n",
       "    </tr>\n",
       "    <tr>\n",
       "      <th>14</th>\n",
       "      <td>MKSI</td>\n",
       "      <td>$175.44</td>\n",
       "      <td>841</td>\n",
       "      <td>4.67</td>\n",
       "      <td>2.73</td>\n",
       "    </tr>\n",
       "    <tr>\n",
       "      <th>4</th>\n",
       "      <td>SKLZ</td>\n",
       "      <td>$20.89</td>\n",
       "      <td>100.40K</td>\n",
       "      <td>0.50</td>\n",
       "      <td>2.45</td>\n",
       "    </tr>\n",
       "    <tr>\n",
       "      <th>15</th>\n",
       "      <td>SKLZ</td>\n",
       "      <td>$20.89</td>\n",
       "      <td>100.40K</td>\n",
       "      <td>0.50</td>\n",
       "      <td>2.45</td>\n",
       "    </tr>\n",
       "    <tr>\n",
       "      <th>5</th>\n",
       "      <td>EXAS</td>\n",
       "      <td>$126.50</td>\n",
       "      <td>112</td>\n",
       "      <td>2.45</td>\n",
       "      <td>1.98</td>\n",
       "    </tr>\n",
       "    <tr>\n",
       "      <th>16</th>\n",
       "      <td>EXAS</td>\n",
       "      <td>$126.50</td>\n",
       "      <td>112</td>\n",
       "      <td>2.45</td>\n",
       "      <td>1.98</td>\n",
       "    </tr>\n",
       "    <tr>\n",
       "      <th>6</th>\n",
       "      <td>ATH</td>\n",
       "      <td>$69.75</td>\n",
       "      <td>56</td>\n",
       "      <td>1.35</td>\n",
       "      <td>1.97</td>\n",
       "    </tr>\n",
       "    <tr>\n",
       "      <th>17</th>\n",
       "      <td>ATH</td>\n",
       "      <td>$69.75</td>\n",
       "      <td>56</td>\n",
       "      <td>1.35</td>\n",
       "      <td>1.97</td>\n",
       "    </tr>\n",
       "    <tr>\n",
       "      <th>18</th>\n",
       "      <td>VER</td>\n",
       "      <td>$47.00</td>\n",
       "      <td>1</td>\n",
       "      <td>0.89</td>\n",
       "      <td>1.93</td>\n",
       "    </tr>\n",
       "    <tr>\n",
       "      <th>7</th>\n",
       "      <td>VER</td>\n",
       "      <td>$47.00</td>\n",
       "      <td>1</td>\n",
       "      <td>0.89</td>\n",
       "      <td>1.93</td>\n",
       "    </tr>\n",
       "    <tr>\n",
       "      <th>19</th>\n",
       "      <td>ADPT</td>\n",
       "      <td>$40.59</td>\n",
       "      <td>2,494</td>\n",
       "      <td>0.72</td>\n",
       "      <td>1.81</td>\n",
       "    </tr>\n",
       "    <tr>\n",
       "      <th>8</th>\n",
       "      <td>ADPT</td>\n",
       "      <td>$40.59</td>\n",
       "      <td>2,494</td>\n",
       "      <td>0.72</td>\n",
       "      <td>1.81</td>\n",
       "    </tr>\n",
       "    <tr>\n",
       "      <th>20</th>\n",
       "      <td>CSGP</td>\n",
       "      <td>$84.70</td>\n",
       "      <td>58</td>\n",
       "      <td>1.45</td>\n",
       "      <td>1.74</td>\n",
       "    </tr>\n",
       "    <tr>\n",
       "      <th>9</th>\n",
       "      <td>CSGP</td>\n",
       "      <td>$84.70</td>\n",
       "      <td>58</td>\n",
       "      <td>1.45</td>\n",
       "      <td>1.74</td>\n",
       "    </tr>\n",
       "    <tr>\n",
       "      <th>11</th>\n",
       "      <td>ALGM</td>\n",
       "      <td>$27.81</td>\n",
       "      <td>109</td>\n",
       "      <td>0.44</td>\n",
       "      <td>1.61</td>\n",
       "    </tr>\n",
       "    <tr>\n",
       "      <th>10</th>\n",
       "      <td>ALGM</td>\n",
       "      <td>$27.81</td>\n",
       "      <td>109</td>\n",
       "      <td>0.44</td>\n",
       "      <td>1.61</td>\n",
       "    </tr>\n",
       "    <tr>\n",
       "      <th>21</th>\n",
       "      <td>ALGM</td>\n",
       "      <td>$27.81</td>\n",
       "      <td>109</td>\n",
       "      <td>0.44</td>\n",
       "      <td>1.61</td>\n",
       "    </tr>\n",
       "  </tbody>\n",
       "</table>\n",
       "</div>"
      ],
      "text/plain": [
       "   Symbol    Price   Volume Changes  Change%\n",
       "0    SPCE   $53.23   7.500M   10.03    23.22\n",
       "1    SPCE   $53.23   7.500M   10.03    23.22\n",
       "12   SPCE   $53.23   7.500M   10.03    23.22\n",
       "13     SC   $40.51  172.98K    4.08    11.20\n",
       "2      SC   $40.51  172.98K    4.08    11.20\n",
       "3    MKSI  $175.44      841    4.67     2.73\n",
       "14   MKSI  $175.44      841    4.67     2.73\n",
       "4    SKLZ   $20.89  100.40K    0.50     2.45\n",
       "15   SKLZ   $20.89  100.40K    0.50     2.45\n",
       "5    EXAS  $126.50      112    2.45     1.98\n",
       "16   EXAS  $126.50      112    2.45     1.98\n",
       "6     ATH   $69.75       56    1.35     1.97\n",
       "17    ATH   $69.75       56    1.35     1.97\n",
       "18    VER   $47.00        1    0.89     1.93\n",
       "7     VER   $47.00        1    0.89     1.93\n",
       "19   ADPT   $40.59    2,494    0.72     1.81\n",
       "8    ADPT   $40.59    2,494    0.72     1.81\n",
       "20   CSGP   $84.70       58    1.45     1.74\n",
       "9    CSGP   $84.70       58    1.45     1.74\n",
       "11   ALGM   $27.81      109    0.44     1.61\n",
       "10   ALGM   $27.81      109    0.44     1.61\n",
       "21   ALGM   $27.81      109    0.44     1.61"
      ]
     },
     "execution_count": 20,
     "metadata": {},
     "output_type": "execute_result"
    }
   ],
   "source": [
    "dataframe"
   ]
  }
 ],
 "metadata": {
  "kernelspec": {
   "display_name": "Python 3",
   "language": "python",
   "name": "python3"
  },
  "language_info": {
   "codemirror_mode": {
    "name": "ipython",
    "version": 3
   },
   "file_extension": ".py",
   "mimetype": "text/x-python",
   "name": "python",
   "nbconvert_exporter": "python",
   "pygments_lexer": "ipython3",
   "version": "3.9.6"
  }
 },
 "nbformat": 4,
 "nbformat_minor": 5
}
